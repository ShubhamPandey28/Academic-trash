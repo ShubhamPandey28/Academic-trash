{
 "cells": [
  {
   "cell_type": "code",
   "execution_count": 2,
   "metadata": {},
   "outputs": [],
   "source": [
    "##Imports \n",
    "import pandas as pd\n",
    "import numpy as np\n",
    "import matplotlib.pyplot as plt\n",
    "import matplotlib as mpl\n",
    "from sklearn.model_selection import train_test_split"
   ]
  },
  {
   "cell_type": "code",
   "execution_count": 3,
   "metadata": {},
   "outputs": [],
   "source": [
    "#defining hyper-parameters\n",
    "# Part-1 Linearly separable data\n",
    "class PARAMS:\n",
    "    Nclasses = 2\n",
    "    List_Files = [r'/Users/yash_/Documents/pr/assignment_01/linearly_seperable_data/Class1.txt', r'/Users/yash_/Documents/pr/assignment_01/linearly_seperable_data/Class2.txt']\n",
    "    List_Class = [1, 2]"
   ]
  },
  {
   "cell_type": "code",
   "execution_count": 4,
   "metadata": {},
   "outputs": [],
   "source": [
    "#defining hyper-parameters\n",
    "# Part-2 Non-Linearly Separable Data\n",
    "class PARAMS:\n",
    "    Nclasses = 2\n",
    "    List_Files = [r'/Users/yash_/Documents/pr/assignment_01/non_linearly_seperable data/Class1.txt', r'/Users/yash_/Documents/pr/assignment_01/non_linearly_seperable data/Class2.txt']\n",
    "    List_Class = [1, 2]"
   ]
  },
  {
   "cell_type": "code",
   "execution_count": 6,
   "metadata": {},
   "outputs": [],
   "source": [
    "#defining hyper-parameters\n",
    "# Part-3 Real World Data\n",
    "class PARAMS:\n",
    "    Nclasses = 3\n",
    "    List_Files = [\n",
    "        '/home/shubham/MAIN/Academics/CS-669/assignment_01/linearly_seperable_data',\n",
    "        '/home/shubham/MAIN/Academics/CS-669/assignment_01/non_linearly_seperable data',\n",
    "        '/home/shubham/MAIN/Academics/CS-669/assignment_01/real_world_data'\n",
    "    ]\n",
    "    List_Class = [1, 2, 3]"
   ]
  },
  {
   "cell_type": "code",
   "execution_count": 7,
   "metadata": {},
   "outputs": [],
   "source": [
    "#defining class for building bayes model\n",
    "class BayesClassifier():\n",
    "    '''\n",
    "    Bayes classifier is a probabilistic model which is used to find posterior probability by using likelihood \n",
    "    and prior probability. during fitting, we find the mean and covariance matrix for the training data for all the\n",
    "    classes separately and for prediction we use multivariate gaussian denisty for finding posterior.\n",
    "    '''\n",
    "    def fit(self, X, Y):\n",
    "        '''\n",
    "        finding mean and covariance matrix of all the classes in training data\n",
    "        '''\n",
    "        self.Class, self.ClassCounts = np.unique(Y, return_counts=True)\n",
    "        self.NClasses = len(self.Class)\n",
    "\n",
    "        self.prior = {self.Class[i]: self.ClassCounts[i] for i in range(len(self.Class))}\n",
    "        #print(self.prior)\n",
    "\n",
    "        ClassBasedData = {}\n",
    "        for Class in self.Class:\n",
    "            ClassBasedData[Class] = [[],[]]\n",
    "        \n",
    "        for i in range(len(Y)):\n",
    "            ClassBasedData[Y[i]][0].append(list(X.iloc[i])[0])\n",
    "            ClassBasedData[Y[i]][1].append(list(X.iloc[i])[1])\n",
    "        \n",
    "        #print(ClassBasedData)\n",
    "        #pdfs contains means and covariance matrix of all the classes\n",
    "        self.pdfs = {}\n",
    "        for Class in self.Class:\n",
    "            Data = np.array(ClassBasedData[Class])\n",
    "            #print(Data)\n",
    "           \n",
    "            Mean = np.mean(Data, axis=1)\n",
    "            Cov = np.cov(Data)\n",
    "\n",
    "            self.pdfs[Class] = {}\n",
    "            self.pdfs[Class]['Mean'] = Mean\n",
    "            self.pdfs[Class]['Covariance'] = Cov\n",
    "        #print(self.pdfs)\n",
    "    def predict(self, X):\n",
    "        '''\n",
    "        for every test data, finding posterior probability for every class and choosing the biggest one\n",
    "        '''\n",
    "        Y = []\n",
    "        for row in X.values:\n",
    "            Posterior = {}\n",
    "            for C in self.Class:\n",
    "                Posterior[C] = self.Likelihood(row, C) * self.prior[C]\n",
    "            #print(Proba)\n",
    "            res = self.Class[0]\n",
    "            for C in self.Class:\n",
    "                if (Posterior[res] < Posterior[C]):\n",
    "                    res = C\n",
    "            #print(res)\n",
    "            Y.append(res)\n",
    "        return Y\n",
    "    \n",
    "    def Likelihood(self, Data, Class):\n",
    "        '''\n",
    "        Using multivariate gaussian probability formula\n",
    "        '''\n",
    "        pdf = self.pdfs[Class]\n",
    "        Mean = pdf['Mean']\n",
    "        Cov = pdf['Covariance']\n",
    "        Data = np.array(Data)\n",
    "        \n",
    "        res = np.exp(-0.5 * np.matmul(np.matmul(np.transpose(Data - Mean), np.linalg.inv(Cov)), (Data - Mean)))\n",
    "        res = res / ((2*3.14) * ((np.linalg.det(Cov)) ** 0.5))        \n",
    "        \n",
    "        return res\n"
   ]
  },
  {
   "cell_type": "code",
   "execution_count": 8,
   "metadata": {},
   "outputs": [],
   "source": [
    "#visualization\n",
    "def Visualize(Data, Class):\n",
    "    plt.figure(figsize=(15,6))\n",
    "    plt.rcParams['axes.facecolor'] = 'Silver'\n",
    "    plt.scatter(Data['X'], Data['Y'], c=Class)\n",
    "    plt.xlabel(\"Feature 1\", fontsize = 20)\n",
    "    plt.ylabel(\"Feature 2\", fontsize = 20)\n",
    "    plt.show()"
   ]
  },
  {
   "cell_type": "code",
   "execution_count": 9,
   "metadata": {},
   "outputs": [],
   "source": [
    "#read data from txt file and written arrays of data\n",
    "def readData (filename, Class):\n",
    "    allLines = open(filename, 'r').readlines()\n",
    "    Data_X = []\n",
    "    Data_Y = []\n",
    "    Data_class = []\n",
    "    for line in allLines:\n",
    "        Data_X.append(list(map(float, line.strip().split()))[0])\n",
    "        Data_Y.append(list(map(float, line.strip().split()))[1])\n",
    "        Data_class.append(Class)\n",
    "    \n",
    "    return [Data_X, Data_Y, Data_class]"
   ]
  },
  {
   "cell_type": "code",
   "execution_count": 10,
   "metadata": {},
   "outputs": [],
   "source": [
    "#accuracy results\n",
    "def Accuracy(test, pred):\n",
    "    c = 0\n",
    "    for i in range(len(test)):\n",
    "        if (test[i] == pred[i]):\n",
    "            c += 1\n",
    "    \n",
    "    return c/len(test)"
   ]
  },
  {
   "cell_type": "code",
   "execution_count": 11,
   "metadata": {},
   "outputs": [
    {
     "ename": "IsADirectoryError",
     "evalue": "[Errno 21] Is a directory: '/home/shubham/MAIN/Academics/CS-669/assignment_01/linearly_seperable_data'",
     "output_type": "error",
     "traceback": [
      "\u001b[0;31m---------------------------------------------------------------------------\u001b[0m",
      "\u001b[0;31mIsADirectoryError\u001b[0m                         Traceback (most recent call last)",
      "\u001b[0;32m<ipython-input-11-719bbd05d34e>\u001b[0m in \u001b[0;36m<module>\u001b[0;34m\u001b[0m\n\u001b[1;32m     39\u001b[0m \u001b[0;34m\u001b[0m\u001b[0m\n\u001b[1;32m     40\u001b[0m \u001b[0;32mif\u001b[0m \u001b[0m__name__\u001b[0m \u001b[0;34m==\u001b[0m \u001b[0;34m\"__main__\"\u001b[0m\u001b[0;34m:\u001b[0m\u001b[0;34m\u001b[0m\u001b[0;34m\u001b[0m\u001b[0m\n\u001b[0;32m---> 41\u001b[0;31m     \u001b[0mmain\u001b[0m\u001b[0;34m(\u001b[0m\u001b[0;34m)\u001b[0m\u001b[0;34m\u001b[0m\u001b[0;34m\u001b[0m\u001b[0m\n\u001b[0m",
      "\u001b[0;32m<ipython-input-11-719bbd05d34e>\u001b[0m in \u001b[0;36mmain\u001b[0;34m()\u001b[0m\n\u001b[1;32m      5\u001b[0m     \u001b[0mlist_C\u001b[0m \u001b[0;34m=\u001b[0m \u001b[0;34m[\u001b[0m\u001b[0;34m]\u001b[0m\u001b[0;34m\u001b[0m\u001b[0;34m\u001b[0m\u001b[0m\n\u001b[1;32m      6\u001b[0m     \u001b[0;32mfor\u001b[0m \u001b[0mi\u001b[0m \u001b[0;32min\u001b[0m \u001b[0mrange\u001b[0m\u001b[0;34m(\u001b[0m\u001b[0mPARAMS\u001b[0m\u001b[0;34m.\u001b[0m\u001b[0mNclasses\u001b[0m\u001b[0;34m)\u001b[0m\u001b[0;34m:\u001b[0m\u001b[0;34m\u001b[0m\u001b[0;34m\u001b[0m\u001b[0m\n\u001b[0;32m----> 7\u001b[0;31m         \u001b[0mdat\u001b[0m \u001b[0;34m=\u001b[0m \u001b[0mreadData\u001b[0m\u001b[0;34m(\u001b[0m\u001b[0mPARAMS\u001b[0m\u001b[0;34m.\u001b[0m\u001b[0mList_Files\u001b[0m\u001b[0;34m[\u001b[0m\u001b[0mi\u001b[0m\u001b[0;34m]\u001b[0m\u001b[0;34m,\u001b[0m \u001b[0mPARAMS\u001b[0m\u001b[0;34m.\u001b[0m\u001b[0mList_Class\u001b[0m\u001b[0;34m[\u001b[0m\u001b[0mi\u001b[0m\u001b[0;34m]\u001b[0m\u001b[0;34m)\u001b[0m\u001b[0;34m\u001b[0m\u001b[0;34m\u001b[0m\u001b[0m\n\u001b[0m\u001b[1;32m      8\u001b[0m         \u001b[0;31m#print(dat)\u001b[0m\u001b[0;34m\u001b[0m\u001b[0;34m\u001b[0m\u001b[0;34m\u001b[0m\u001b[0m\n\u001b[1;32m      9\u001b[0m         \u001b[0mlist_X\u001b[0m \u001b[0;34m=\u001b[0m \u001b[0mlist_X\u001b[0m \u001b[0;34m+\u001b[0m \u001b[0mdat\u001b[0m\u001b[0;34m[\u001b[0m\u001b[0;36m0\u001b[0m\u001b[0;34m]\u001b[0m\u001b[0;34m\u001b[0m\u001b[0;34m\u001b[0m\u001b[0m\n",
      "\u001b[0;32m<ipython-input-9-f2827f4b5b52>\u001b[0m in \u001b[0;36mreadData\u001b[0;34m(filename, Class)\u001b[0m\n\u001b[1;32m      1\u001b[0m \u001b[0;31m#read data from txt file and written arrays of data\u001b[0m\u001b[0;34m\u001b[0m\u001b[0;34m\u001b[0m\u001b[0;34m\u001b[0m\u001b[0m\n\u001b[1;32m      2\u001b[0m \u001b[0;32mdef\u001b[0m \u001b[0mreadData\u001b[0m \u001b[0;34m(\u001b[0m\u001b[0mfilename\u001b[0m\u001b[0;34m,\u001b[0m \u001b[0mClass\u001b[0m\u001b[0;34m)\u001b[0m\u001b[0;34m:\u001b[0m\u001b[0;34m\u001b[0m\u001b[0;34m\u001b[0m\u001b[0m\n\u001b[0;32m----> 3\u001b[0;31m     \u001b[0mallLines\u001b[0m \u001b[0;34m=\u001b[0m \u001b[0mopen\u001b[0m\u001b[0;34m(\u001b[0m\u001b[0mfilename\u001b[0m\u001b[0;34m,\u001b[0m \u001b[0;34m'r'\u001b[0m\u001b[0;34m)\u001b[0m\u001b[0;34m.\u001b[0m\u001b[0mreadlines\u001b[0m\u001b[0;34m(\u001b[0m\u001b[0;34m)\u001b[0m\u001b[0;34m\u001b[0m\u001b[0;34m\u001b[0m\u001b[0m\n\u001b[0m\u001b[1;32m      4\u001b[0m     \u001b[0mData_X\u001b[0m \u001b[0;34m=\u001b[0m \u001b[0;34m[\u001b[0m\u001b[0;34m]\u001b[0m\u001b[0;34m\u001b[0m\u001b[0;34m\u001b[0m\u001b[0m\n\u001b[1;32m      5\u001b[0m     \u001b[0mData_Y\u001b[0m \u001b[0;34m=\u001b[0m \u001b[0;34m[\u001b[0m\u001b[0;34m]\u001b[0m\u001b[0;34m\u001b[0m\u001b[0;34m\u001b[0m\u001b[0m\n",
      "\u001b[0;31mIsADirectoryError\u001b[0m: [Errno 21] Is a directory: '/home/shubham/MAIN/Academics/CS-669/assignment_01/linearly_seperable_data'"
     ]
    }
   ],
   "source": [
    "def main():\n",
    "    # Reading Data\n",
    "    list_X = []\n",
    "    list_Y = []\n",
    "    list_C = []\n",
    "    for i in range(PARAMS.Nclasses):\n",
    "        dat = readData(PARAMS.List_Files[i], PARAMS.List_Class[i])\n",
    "        #print(dat)\n",
    "        list_X = list_X + dat[0]\n",
    "        list_Y = list_Y + dat[1]\n",
    "        list_C = list_C + dat[2]\n",
    "    \n",
    "    Data = pd.DataFrame()\n",
    "    Data['X'] = list_X\n",
    "    Data['Y'] = list_Y\n",
    "    Target = list_C\n",
    "    #print(Data)\n",
    "\n",
    "    # # Understanding the Data\n",
    "    # print(Data.head())\n",
    "    \n",
    "\n",
    "    # Splitting the Data\n",
    "    X_train, X_test, Y_train, Y_test = train_test_split(Data, Target, test_size=0.3, random_state=42)\n",
    "\n",
    "    Model = BayesClassifier()\n",
    "    Model.fit(X_train, Y_train)\n",
    "    Y_pred = Model.predict(X_test)\n",
    "    #print()\n",
    "    \n",
    "    print('\\033[1m' + \"Training Data Visualization\")\n",
    "    Visualize(X_train, Y_train)\n",
    "    print(\"--------------------------------------------------------------------------------------------------------------------------\")\n",
    "    print('\\033[1m' + \"Test Data Visulization\")\n",
    "    Visualize(X_test, Y_pred)\n",
    "    \n",
    "    print(f\"Accuracy of the model on the test data is {Accuracy(Y_test, Y_pred)}\")\n",
    "    \n",
    "    \n",
    "if __name__ == \"__main__\":\n",
    "    main()"
   ]
  },
  {
   "cell_type": "code",
   "execution_count": null,
   "metadata": {},
   "outputs": [],
   "source": []
  },
  {
   "cell_type": "code",
   "execution_count": null,
   "metadata": {},
   "outputs": [],
   "source": []
  }
 ],
 "metadata": {
  "kernelspec": {
   "display_name": "Python 3",
   "language": "python",
   "name": "python3"
  },
  "language_info": {
   "codemirror_mode": {
    "name": "ipython",
    "version": 3
   },
   "file_extension": ".py",
   "mimetype": "text/x-python",
   "name": "python",
   "nbconvert_exporter": "python",
   "pygments_lexer": "ipython3",
   "version": "3.8.5"
  }
 },
 "nbformat": 4,
 "nbformat_minor": 2
}
