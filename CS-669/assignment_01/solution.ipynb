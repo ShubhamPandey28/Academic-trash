{
 "cells": [
  {
   "cell_type": "code",
   "execution_count": 5,
   "metadata": {},
   "outputs": [],
   "source": [
    "import os\n",
    "import numpy as np\n",
    "import pandas as pd\n",
    "import numpy as np\n",
    "from math import log\n",
    "from sklearn.model_selection import train_test_split as tts\n",
    "from scipy.stats import multivariate_normal as mnorm\n"
   ]
  },
  {
   "cell_type": "code",
   "execution_count": 6,
   "metadata": {},
   "outputs": [],
   "source": [
    "PATHS = [\n",
    "    '/home/shubham/MAIN/Academics/CS-669/assignment_01/linearly_seperable_data',\n",
    "    '/home/shubham/MAIN/Academics/CS-669/assignment_01/non_linearly_seperable data',\n",
    "    '/home/shubham/MAIN/Academics/CS-669/assignment_01/real_world_data'\n",
    "]"
   ]
  },
  {
   "cell_type": "code",
   "execution_count": 7,
   "metadata": {},
   "outputs": [],
   "source": [
    "def getGaussian(x,mean,sig):\n",
    "    return -(((x-mean)**2)/sig**2 + 2*log(sig))\n",
    "\n",
    "class bayesClassifier:\n",
    "\n",
    "    def __init__(self):\n",
    "        self.X_train = None\n",
    "        self.y_train = None\n",
    "        self.X_test = None\n",
    "        self.y_test = None\n",
    "        self.X = None\n",
    "        self.Y = None\n",
    "        self.infoMatrix = None\n",
    "        self.fitted = False\n",
    "        self.keys = None\n",
    "        self.ce = False\n",
    "        self.prior = None\n",
    "    \n",
    "    \n",
    "    def fit(self,X, Y):\n",
    "        self.X, self.Y = X, Y\n",
    "        self.X_train, self.X_test, self.y_train, self.y_test = np.array(tts(X,Y,test_size=0.3, random_state=42))\n",
    "        self.y_train = np.array(self.y_train)\n",
    "        self.X_train = np.array(self.X_train)\n",
    "        self.X_test = np.array(self.X_test)\n",
    "        self.y_test = np.array(self.y_test)\n",
    "        self.y_dim, self.prior = np.unique(self.y_train, return_counts=True)\n",
    "        self.prior = self.prior / sum(self.prior)\n",
    "        self.infoMatrix = np.empty((len(set(self.Y)),len(self.X[0]),2),dtype=float)         #[[[m11,sig11],[m12,sig12]],[[m21,sig21],[m22,sig22]]]\n",
    "        \n",
    "        self.fitted = True\n",
    "        \n",
    "        self.calInfo()\n",
    "    \n",
    "    \n",
    "    def calInfo(self):\n",
    "        if self.fitted:\n",
    "            mp = {}\n",
    "            \n",
    "            for i in range(len(self.X_train)):\n",
    "                if self.y_train[i] in mp:\n",
    "                    mp[self.y_train[i]].append(self.X_train[i])\n",
    "                else:\n",
    "                    mp[self.y_train[i]] = [self.X_train[i]]\n",
    "            \n",
    "            self.keys = list(mp.keys())\n",
    "\n",
    "            self.info = {}\n",
    "\n",
    "            for k in self.keys:\n",
    "                self.info[k] = [np.mean(mp[k],axis=0),np.cov(np.array(mp[k]).T)]\n",
    "            '''\n",
    "            for j in range(len(self.keys)):\n",
    "                l = np.mean(mp[self.keys[j]],axis=0)\n",
    "                l2 = np.std(mp[self.keys[j]],axis=0)\n",
    "                for i in range(len(self.X_train[0])):\n",
    "                    self.infoMatrix[j][i][0] = l[i]\n",
    "                    self.infoMatrix[j][i][1] = l2[i]\n",
    "            '''\n",
    "        else:\n",
    "            raise Exception(\"Please fit the data into the model first.\")\n",
    "    \n",
    "    \n",
    "    \n",
    "    def predict(self,x):\n",
    "        post = []\n",
    "        for i in range(len(self.keys)):            \n",
    "            l = mnorm.pdf(x,mean=self.info[self.keys[i]][0],cov=self.info[self.keys[i]][1], allow_singular=True)\n",
    "            post.append(l*self.prior[self.keys[i]])\n",
    "        label = np.argmax(post)\n",
    "        confidence = post[label]\n",
    "        return label, confidence\n",
    "    \n",
    "    def geteff(self):\n",
    "        self.confMat = [ len(self.y_dim)*[0] for i in range(len(self.y_dim))]\n",
    "        for i in range(len(self.X_test)):\n",
    "            y_pred = self.predict(self.X_test[i])[0]\n",
    "            self.confMat[y_pred][self.y_test[i]] += 1\n",
    "                \n",
    "        acc = 0\n",
    "        for i in range(len(self.confMat)):\n",
    "            acc += self.confMat[i][i]\n",
    "        \n",
    "        return acc/len(self.X_test) \n",
    "    \n"
   ]
  },
  {
   "cell_type": "code",
   "execution_count": 8,
   "metadata": {},
   "outputs": [],
   "source": [
    "def solve_for_data(data):\n",
    "    model = bayesClassifier()\n",
    "    model.fit(data[:, :-1], data[:,-1].astype(int))\n",
    "    print(f'prior : {model.prior}')\n",
    "    print(f'Efficiency : {model.geteff()}')\n",
    "    "
   ]
  },
  {
   "cell_type": "markdown",
   "metadata": {},
   "source": [
    "### For linearly seperable data"
   ]
  },
  {
   "cell_type": "code",
   "execution_count": 9,
   "metadata": {},
   "outputs": [],
   "source": [
    "def get_data(file_path, label):\n",
    "    with open(file_path) as f:\n",
    "        features = np.array(list(map(lambda x : list(map(float, x.strip().split())),f.readlines())))\n",
    "        labels = np.reshape(np.array(features.shape[0]*[label]), [-1, 1])\n",
    "        features = np.append(features, labels, axis=1)\n",
    "    return features\n",
    "\n",
    "data1 = np.append(get_data(PATHS[0] + '/Class1.txt', 0), get_data(PATHS[0] + '/Class2.txt', 1),0)\n",
    "data2 = np.append(get_data(PATHS[1] + '/Class1.txt', 0), get_data(PATHS[1] + '/Class2.txt', 1),0)\n",
    "data3 = np.append(get_data(PATHS[2] + '/class1.txt', 0), get_data(PATHS[2] + '/class2.txt', 1),0)\n",
    "data3 = np.append(data3, get_data(PATHS[2] + '/class3.txt', 2), 0)"
   ]
  },
  {
   "cell_type": "code",
   "execution_count": 11,
   "metadata": {},
   "outputs": [
    {
     "output_type": "execute_result",
     "data": {
      "text/plain": [
       "(2000, 3)"
      ]
     },
     "metadata": {},
     "execution_count": 11
    }
   ],
   "source": [
    "data1.shape"
   ]
  },
  {
   "cell_type": "code",
   "execution_count": 303,
   "metadata": {},
   "outputs": [
    {
     "name": "stdout",
     "output_type": "stream",
     "text": [
      "prior : [0.49857143 0.50142857]\n",
      "Efficiency : 1.0\n"
     ]
    }
   ],
   "source": [
    "solve_for_data(data1)"
   ]
  },
  {
   "cell_type": "code",
   "execution_count": 304,
   "metadata": {},
   "outputs": [
    {
     "name": "stdout",
     "output_type": "stream",
     "text": [
      "prior : [0.49857143 0.50142857]\n",
      "Efficiency : 0.995\n"
     ]
    }
   ],
   "source": [
    "solve_for_data(data2)"
   ]
  },
  {
   "cell_type": "code",
   "execution_count": 306,
   "metadata": {},
   "outputs": [
    {
     "name": "stdout",
     "output_type": "stream",
     "text": [
      "prior : [0.34446764 0.31816284 0.33736952]\n",
      "Efficiency : 0.9079396005845105\n"
     ]
    }
   ],
   "source": [
    "solve_for_data(data3)"
   ]
  },
  {
   "cell_type": "markdown",
   "metadata": {},
   "source": [
    "###  For non-linearly separable"
   ]
  }
 ],
 "metadata": {
  "kernelspec": {
   "display_name": "Python 3",
   "language": "python",
   "name": "python3"
  },
  "language_info": {
   "codemirror_mode": {
    "name": "ipython",
    "version": 3
   },
   "file_extension": ".py",
   "mimetype": "text/x-python",
   "name": "python",
   "nbconvert_exporter": "python",
   "pygments_lexer": "ipython3",
   "version": "3.8.5-final"
  }
 },
 "nbformat": 4,
 "nbformat_minor": 4
}